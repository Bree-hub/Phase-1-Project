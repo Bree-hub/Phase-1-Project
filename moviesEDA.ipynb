{
 "cells": [
  {
   "cell_type": "markdown",
   "metadata": {},
   "source": [
    "\n"
   ]
  },
  {
   "cell_type": "markdown",
   "metadata": {},
   "source": [
    "# Film Insights And Exploratory Data Analysis.\n",
    "\n",
    "![](https://images.unsplash.com/photo-1440404653325-ab127d49abc1?ixlib=rb-4.0.3&ixid=MnwxMjA3fDB8MHxwaG90by1wYWdlfHx8fGVufDB8fHx8&auto=format&fit=crop&w=870&q=80)\n",
    "\n",
    "## Overview\n",
    "\n",
    "This project analyzes movie data to determine the features and approaches that contribute to a movie success. The first step will be to import and clean the data. I will go through all the datasets to primarily understand what they contain and then decide the data to use to answer the business questions for this project. Once the data is cleaned, I will focus to answer the questions below and additional insights drawn from the data:\n",
    "\n",
    " 1.[Which movie genres are most commonly produced and does quantity equate to higher gross return?](URL)\n",
    " \n",
    " 2.[What is the best time of the year to release a movie?](URL)\n",
    " \n",
    " 3.[Which studios are the top competitors?](URL)\n",
    " \n",
    " "
   ]
  },
  {
   "cell_type": "markdown",
   "metadata": {},
   "source": [
    "# Data Understanding\n",
    "\n",
    "## Import Libraries\n"
   ]
  },
  {
   "cell_type": "code",
   "execution_count": 1,
   "metadata": {},
   "outputs": [],
   "source": [
    "#Import necessary libraries\n",
    "import pandas as pd\n",
    "import numpy as np\n",
    "import seaborn as sns\n",
    "import matplotlib.pyplot as plt\n",
    "\n",
    "%matplotlib inline"
   ]
  },
  {
   "cell_type": "markdown",
   "metadata": {},
   "source": [
    "## Import and Clean Data"
   ]
  },
  {
   "cell_type": "code",
   "execution_count": 2,
   "metadata": {},
   "outputs": [],
   "source": [
    "#read the data into pandas dfs\n",
    "#box office mojo movie gross file\n",
    "bom_df=pd.read_csv(\"zippedData/bom.movie_gross.csv.gz\")\n",
    "#rotten tomatoes movie info\n",
    "rt_movie_df=pd.read_csv(\"zippedData/rt.movie_info.tsv.gz\", sep='\\t')\n",
    "#rotten tomatoes reviews\n",
    "rt_reviews_df=pd.read_csv(\"zippedData/rt.reviews.tsv.gz\", sep='\\t', encoding='latin-1')\n",
    "#The movie db\n",
    "tmdb_df=pd.read_csv(\"zippedData/tmdb.movies.csv.gz\")\n",
    "#the numbers movie budgets\n",
    "tn_df=pd.read_csv(\"zippedData/tn.movie_budgets.csv.gz\")\n"
   ]
  },
  {
   "cell_type": "markdown",
   "metadata": {},
   "source": [
    "## bom.movie_gross data"
   ]
  },
  {
   "cell_type": "markdown",
   "metadata": {},
   "source": [
    "Preview bom.movie_gross to get an initial look of the records"
   ]
  },
  {
   "cell_type": "code",
   "execution_count": 3,
   "metadata": {},
   "outputs": [
    {
     "name": "stdout",
     "output_type": "stream",
     "text": [
      "bom.movie_gross \n",
      "\n",
      "<class 'pandas.core.frame.DataFrame'>\n",
      "RangeIndex: 3387 entries, 0 to 3386\n",
      "Data columns (total 5 columns):\n",
      " #   Column          Non-Null Count  Dtype  \n",
      "---  ------          --------------  -----  \n",
      " 0   title           3387 non-null   object \n",
      " 1   studio          3382 non-null   object \n",
      " 2   domestic_gross  3359 non-null   float64\n",
      " 3   foreign_gross   2037 non-null   object \n",
      " 4   year            3387 non-null   int64  \n",
      "dtypes: float64(1), int64(1), object(3)\n",
      "memory usage: 132.4+ KB\n"
     ]
    }
   ],
   "source": [
    "print('bom.movie_gross', '\\n')\n",
    "bom_df.info()"
   ]
  },
  {
   "cell_type": "code",
   "execution_count": 4,
   "metadata": {},
   "outputs": [
    {
     "data": {
      "text/html": [
       "<div>\n",
       "<style scoped>\n",
       "    .dataframe tbody tr th:only-of-type {\n",
       "        vertical-align: middle;\n",
       "    }\n",
       "\n",
       "    .dataframe tbody tr th {\n",
       "        vertical-align: top;\n",
       "    }\n",
       "\n",
       "    .dataframe thead th {\n",
       "        text-align: right;\n",
       "    }\n",
       "</style>\n",
       "<table border=\"1\" class=\"dataframe\">\n",
       "  <thead>\n",
       "    <tr style=\"text-align: right;\">\n",
       "      <th></th>\n",
       "      <th>title</th>\n",
       "      <th>studio</th>\n",
       "      <th>domestic_gross</th>\n",
       "      <th>foreign_gross</th>\n",
       "      <th>year</th>\n",
       "    </tr>\n",
       "  </thead>\n",
       "  <tbody>\n",
       "    <tr>\n",
       "      <th>0</th>\n",
       "      <td>Toy Story 3</td>\n",
       "      <td>BV</td>\n",
       "      <td>415000000.0</td>\n",
       "      <td>652000000</td>\n",
       "      <td>2010</td>\n",
       "    </tr>\n",
       "    <tr>\n",
       "      <th>1</th>\n",
       "      <td>Alice in Wonderland (2010)</td>\n",
       "      <td>BV</td>\n",
       "      <td>334200000.0</td>\n",
       "      <td>691300000</td>\n",
       "      <td>2010</td>\n",
       "    </tr>\n",
       "    <tr>\n",
       "      <th>2</th>\n",
       "      <td>Harry Potter and the Deathly Hallows Part 1</td>\n",
       "      <td>WB</td>\n",
       "      <td>296000000.0</td>\n",
       "      <td>664300000</td>\n",
       "      <td>2010</td>\n",
       "    </tr>\n",
       "    <tr>\n",
       "      <th>3</th>\n",
       "      <td>Inception</td>\n",
       "      <td>WB</td>\n",
       "      <td>292600000.0</td>\n",
       "      <td>535700000</td>\n",
       "      <td>2010</td>\n",
       "    </tr>\n",
       "    <tr>\n",
       "      <th>4</th>\n",
       "      <td>Shrek Forever After</td>\n",
       "      <td>P/DW</td>\n",
       "      <td>238700000.0</td>\n",
       "      <td>513900000</td>\n",
       "      <td>2010</td>\n",
       "    </tr>\n",
       "  </tbody>\n",
       "</table>\n",
       "</div>"
      ],
      "text/plain": [
       "                                         title studio  domestic_gross  \\\n",
       "0                                  Toy Story 3     BV     415000000.0   \n",
       "1                   Alice in Wonderland (2010)     BV     334200000.0   \n",
       "2  Harry Potter and the Deathly Hallows Part 1     WB     296000000.0   \n",
       "3                                    Inception     WB     292600000.0   \n",
       "4                          Shrek Forever After   P/DW     238700000.0   \n",
       "\n",
       "  foreign_gross  year  \n",
       "0     652000000  2010  \n",
       "1     691300000  2010  \n",
       "2     664300000  2010  \n",
       "3     535700000  2010  \n",
       "4     513900000  2010  "
      ]
     },
     "execution_count": 4,
     "metadata": {},
     "output_type": "execute_result"
    }
   ],
   "source": [
    "bom_df.head()"
   ]
  },
  {
   "cell_type": "markdown",
   "metadata": {},
   "source": [
    "Clean bom.movie_gross"
   ]
  },
  {
   "cell_type": "code",
   "execution_count": 5,
   "metadata": {},
   "outputs": [
    {
     "name": "stdout",
     "output_type": "stream",
     "text": [
      "<class 'pandas.core.frame.DataFrame'>\n",
      "RangeIndex: 3387 entries, 0 to 3386\n",
      "Data columns (total 5 columns):\n",
      " #   Column          Non-Null Count  Dtype  \n",
      "---  ------          --------------  -----  \n",
      " 0   title           3387 non-null   object \n",
      " 1   studio          3387 non-null   object \n",
      " 2   domestic_gross  3387 non-null   float64\n",
      " 3   foreign_gross   3387 non-null   float64\n",
      " 4   year            3387 non-null   int64  \n",
      "dtypes: float64(2), int64(1), object(2)\n",
      "memory usage: 132.4+ KB\n"
     ]
    }
   ],
   "source": [
    "#Fill missing values for studio column with 'N/A', fill domestic_gross and foreign_gross missing values with median\n",
    "bom_df['studio'].fillna('N/A', inplace=True)\n",
    "bom_df['domestic_gross'].fillna(bom_df.domestic_gross.median(), inplace=True)\n",
    "bom_df['foreign_gross'].fillna(bom_df.domestic_gross.median(), inplace=True)\n",
    "#Remove comma in foreign_gross\n",
    "bom_df['foreign_gross'].replace(',', '', regex=True, inplace=True)\n",
    "\n",
    "#Change foreign_gross to float64\n",
    "bom_df['foreign_gross'] = bom_df['foreign_gross'].astype('float64')\n",
    "\n",
    "#Preview info to ensure the changes have reflected\n",
    "bom_df.info()"
   ]
  },
  {
   "cell_type": "markdown",
   "metadata": {},
   "source": [
    "## rt.movie_info data\n",
    "\n",
    "Preview data frame to get an initial look of the records"
   ]
  },
  {
   "cell_type": "code",
   "execution_count": 6,
   "metadata": {},
   "outputs": [
    {
     "name": "stdout",
     "output_type": "stream",
     "text": [
      "rt.movie_info \n",
      "\n",
      "<class 'pandas.core.frame.DataFrame'>\n",
      "RangeIndex: 1560 entries, 0 to 1559\n",
      "Data columns (total 12 columns):\n",
      " #   Column        Non-Null Count  Dtype \n",
      "---  ------        --------------  ----- \n",
      " 0   id            1560 non-null   int64 \n",
      " 1   synopsis      1498 non-null   object\n",
      " 2   rating        1557 non-null   object\n",
      " 3   genre         1552 non-null   object\n",
      " 4   director      1361 non-null   object\n",
      " 5   writer        1111 non-null   object\n",
      " 6   theater_date  1201 non-null   object\n",
      " 7   dvd_date      1201 non-null   object\n",
      " 8   currency      340 non-null    object\n",
      " 9   box_office    340 non-null    object\n",
      " 10  runtime       1530 non-null   object\n",
      " 11  studio        494 non-null    object\n",
      "dtypes: int64(1), object(11)\n",
      "memory usage: 146.4+ KB\n"
     ]
    }
   ],
   "source": [
    "print('rt.movie_info', '\\n')\n",
    "rt_movie_df.info()"
   ]
  },
  {
   "cell_type": "code",
   "execution_count": 7,
   "metadata": {},
   "outputs": [
    {
     "data": {
      "text/html": [
       "<div>\n",
       "<style scoped>\n",
       "    .dataframe tbody tr th:only-of-type {\n",
       "        vertical-align: middle;\n",
       "    }\n",
       "\n",
       "    .dataframe tbody tr th {\n",
       "        vertical-align: top;\n",
       "    }\n",
       "\n",
       "    .dataframe thead th {\n",
       "        text-align: right;\n",
       "    }\n",
       "</style>\n",
       "<table border=\"1\" class=\"dataframe\">\n",
       "  <thead>\n",
       "    <tr style=\"text-align: right;\">\n",
       "      <th></th>\n",
       "      <th>id</th>\n",
       "      <th>synopsis</th>\n",
       "      <th>rating</th>\n",
       "      <th>genre</th>\n",
       "      <th>director</th>\n",
       "      <th>writer</th>\n",
       "      <th>theater_date</th>\n",
       "      <th>dvd_date</th>\n",
       "      <th>currency</th>\n",
       "      <th>box_office</th>\n",
       "      <th>runtime</th>\n",
       "      <th>studio</th>\n",
       "    </tr>\n",
       "  </thead>\n",
       "  <tbody>\n",
       "    <tr>\n",
       "      <th>0</th>\n",
       "      <td>1</td>\n",
       "      <td>This gritty, fast-paced, and innovative police...</td>\n",
       "      <td>R</td>\n",
       "      <td>Action and Adventure|Classics|Drama</td>\n",
       "      <td>William Friedkin</td>\n",
       "      <td>Ernest Tidyman</td>\n",
       "      <td>Oct 9, 1971</td>\n",
       "      <td>Sep 25, 2001</td>\n",
       "      <td>NaN</td>\n",
       "      <td>NaN</td>\n",
       "      <td>104 minutes</td>\n",
       "      <td>NaN</td>\n",
       "    </tr>\n",
       "    <tr>\n",
       "      <th>1</th>\n",
       "      <td>3</td>\n",
       "      <td>New York City, not-too-distant-future: Eric Pa...</td>\n",
       "      <td>R</td>\n",
       "      <td>Drama|Science Fiction and Fantasy</td>\n",
       "      <td>David Cronenberg</td>\n",
       "      <td>David Cronenberg|Don DeLillo</td>\n",
       "      <td>Aug 17, 2012</td>\n",
       "      <td>Jan 1, 2013</td>\n",
       "      <td>$</td>\n",
       "      <td>600,000</td>\n",
       "      <td>108 minutes</td>\n",
       "      <td>Entertainment One</td>\n",
       "    </tr>\n",
       "    <tr>\n",
       "      <th>2</th>\n",
       "      <td>5</td>\n",
       "      <td>Illeana Douglas delivers a superb performance ...</td>\n",
       "      <td>R</td>\n",
       "      <td>Drama|Musical and Performing Arts</td>\n",
       "      <td>Allison Anders</td>\n",
       "      <td>Allison Anders</td>\n",
       "      <td>Sep 13, 1996</td>\n",
       "      <td>Apr 18, 2000</td>\n",
       "      <td>NaN</td>\n",
       "      <td>NaN</td>\n",
       "      <td>116 minutes</td>\n",
       "      <td>NaN</td>\n",
       "    </tr>\n",
       "    <tr>\n",
       "      <th>3</th>\n",
       "      <td>6</td>\n",
       "      <td>Michael Douglas runs afoul of a treacherous su...</td>\n",
       "      <td>R</td>\n",
       "      <td>Drama|Mystery and Suspense</td>\n",
       "      <td>Barry Levinson</td>\n",
       "      <td>Paul Attanasio|Michael Crichton</td>\n",
       "      <td>Dec 9, 1994</td>\n",
       "      <td>Aug 27, 1997</td>\n",
       "      <td>NaN</td>\n",
       "      <td>NaN</td>\n",
       "      <td>128 minutes</td>\n",
       "      <td>NaN</td>\n",
       "    </tr>\n",
       "    <tr>\n",
       "      <th>4</th>\n",
       "      <td>7</td>\n",
       "      <td>NaN</td>\n",
       "      <td>NR</td>\n",
       "      <td>Drama|Romance</td>\n",
       "      <td>Rodney Bennett</td>\n",
       "      <td>Giles Cooper</td>\n",
       "      <td>NaN</td>\n",
       "      <td>NaN</td>\n",
       "      <td>NaN</td>\n",
       "      <td>NaN</td>\n",
       "      <td>200 minutes</td>\n",
       "      <td>NaN</td>\n",
       "    </tr>\n",
       "  </tbody>\n",
       "</table>\n",
       "</div>"
      ],
      "text/plain": [
       "   id                                           synopsis rating  \\\n",
       "0   1  This gritty, fast-paced, and innovative police...      R   \n",
       "1   3  New York City, not-too-distant-future: Eric Pa...      R   \n",
       "2   5  Illeana Douglas delivers a superb performance ...      R   \n",
       "3   6  Michael Douglas runs afoul of a treacherous su...      R   \n",
       "4   7                                                NaN     NR   \n",
       "\n",
       "                                 genre          director  \\\n",
       "0  Action and Adventure|Classics|Drama  William Friedkin   \n",
       "1    Drama|Science Fiction and Fantasy  David Cronenberg   \n",
       "2    Drama|Musical and Performing Arts    Allison Anders   \n",
       "3           Drama|Mystery and Suspense    Barry Levinson   \n",
       "4                        Drama|Romance    Rodney Bennett   \n",
       "\n",
       "                            writer  theater_date      dvd_date currency  \\\n",
       "0                   Ernest Tidyman   Oct 9, 1971  Sep 25, 2001      NaN   \n",
       "1     David Cronenberg|Don DeLillo  Aug 17, 2012   Jan 1, 2013        $   \n",
       "2                   Allison Anders  Sep 13, 1996  Apr 18, 2000      NaN   \n",
       "3  Paul Attanasio|Michael Crichton   Dec 9, 1994  Aug 27, 1997      NaN   \n",
       "4                     Giles Cooper           NaN           NaN      NaN   \n",
       "\n",
       "  box_office      runtime             studio  \n",
       "0        NaN  104 minutes                NaN  \n",
       "1    600,000  108 minutes  Entertainment One  \n",
       "2        NaN  116 minutes                NaN  \n",
       "3        NaN  128 minutes                NaN  \n",
       "4        NaN  200 minutes                NaN  "
      ]
     },
     "execution_count": 7,
     "metadata": {},
     "output_type": "execute_result"
    }
   ],
   "source": [
    "rt_movie_df.head()"
   ]
  },
  {
   "cell_type": "markdown",
   "metadata": {},
   "source": [
    "Clean the data"
   ]
  },
  {
   "cell_type": "code",
   "execution_count": 8,
   "metadata": {},
   "outputs": [
    {
     "name": "stdout",
     "output_type": "stream",
     "text": [
      "<class 'pandas.core.frame.DataFrame'>\n",
      "RangeIndex: 1560 entries, 0 to 1559\n",
      "Data columns (total 12 columns):\n",
      " #   Column        Non-Null Count  Dtype  \n",
      "---  ------        --------------  -----  \n",
      " 0   id            1560 non-null   int64  \n",
      " 1   synopsis      1560 non-null   object \n",
      " 2   rating        1560 non-null   object \n",
      " 3   genre         1560 non-null   object \n",
      " 4   director      1560 non-null   object \n",
      " 5   writer        1560 non-null   object \n",
      " 6   theater_date  1560 non-null   object \n",
      " 7   dvd_date      1560 non-null   object \n",
      " 8   currency      1560 non-null   object \n",
      " 9   box_office    1560 non-null   object \n",
      " 10  runtime       1560 non-null   float64\n",
      " 11  studio        1560 non-null   object \n",
      "dtypes: float64(1), int64(1), object(10)\n",
      "memory usage: 146.4+ KB\n"
     ]
    }
   ],
   "source": [
    "#Fill synposis, genre, director, writer, currency, studio, rating missing values with 'N/A'\n",
    "rt_movie_df['synopsis'].fillna('N/A', inplace=True)\n",
    "rt_movie_df['genre'].fillna('N/A', inplace=True)\n",
    "rt_movie_df['director'].fillna('N/A', inplace=True)\n",
    "rt_movie_df['writer'].fillna('N/A', inplace=True)\n",
    "rt_movie_df['currency'].fillna('N/A', inplace=True)\n",
    "rt_movie_df['studio'].fillna('N/A', inplace=True)\n",
    "rt_movie_df['rating'].fillna('N/A', inplace=True)\n",
    "\n",
    "#Fill box_office missing values with 0\n",
    "rt_movie_df['box_office'].fillna(0, inplace=True)\n",
    "\n",
    "#Fill theater_date and dvd_date missing values with \"Jan 0, 0000\" to keep same format\n",
    "rt_movie_df['theater_date'].fillna('Jan 0, 0000', inplace=True)\n",
    "rt_movie_df['dvd_date'].fillna('Jan 0, 0000', inplace=True)\n",
    "\n",
    "#Remove 'minutes' from runtime, change data type to float64 and impute missing values with mean\n",
    "rt_movie_df['runtime'].replace('minutes', '', regex=True, inplace=True)\n",
    "rt_movie_df['runtime'] = rt_movie_df['runtime'].astype('float64')\n",
    "rt_movie_df['runtime'].fillna(rt_movie_df.runtime.mean(), inplace=True)\n",
    "\n",
    "#Check to ensure all changes reflected\n",
    "rt_movie_df.info()"
   ]
  },
  {
   "cell_type": "markdown",
   "metadata": {},
   "source": [
    "## rt.reviews data\n",
    "\n",
    "Preview the data"
   ]
  },
  {
   "cell_type": "code",
   "execution_count": 9,
   "metadata": {},
   "outputs": [
    {
     "name": "stdout",
     "output_type": "stream",
     "text": [
      "rt.reviews \n",
      "\n",
      "<class 'pandas.core.frame.DataFrame'>\n",
      "RangeIndex: 54432 entries, 0 to 54431\n",
      "Data columns (total 8 columns):\n",
      " #   Column      Non-Null Count  Dtype \n",
      "---  ------      --------------  ----- \n",
      " 0   id          54432 non-null  int64 \n",
      " 1   review      48869 non-null  object\n",
      " 2   rating      40915 non-null  object\n",
      " 3   fresh       54432 non-null  object\n",
      " 4   critic      51710 non-null  object\n",
      " 5   top_critic  54432 non-null  int64 \n",
      " 6   publisher   54123 non-null  object\n",
      " 7   date        54432 non-null  object\n",
      "dtypes: int64(2), object(6)\n",
      "memory usage: 3.3+ MB\n"
     ]
    }
   ],
   "source": [
    "print('rt.reviews', '\\n')\n",
    "rt_reviews_df.info()"
   ]
  },
  {
   "cell_type": "code",
   "execution_count": 10,
   "metadata": {},
   "outputs": [
    {
     "data": {
      "text/html": [
       "<div>\n",
       "<style scoped>\n",
       "    .dataframe tbody tr th:only-of-type {\n",
       "        vertical-align: middle;\n",
       "    }\n",
       "\n",
       "    .dataframe tbody tr th {\n",
       "        vertical-align: top;\n",
       "    }\n",
       "\n",
       "    .dataframe thead th {\n",
       "        text-align: right;\n",
       "    }\n",
       "</style>\n",
       "<table border=\"1\" class=\"dataframe\">\n",
       "  <thead>\n",
       "    <tr style=\"text-align: right;\">\n",
       "      <th></th>\n",
       "      <th>id</th>\n",
       "      <th>review</th>\n",
       "      <th>rating</th>\n",
       "      <th>fresh</th>\n",
       "      <th>critic</th>\n",
       "      <th>top_critic</th>\n",
       "      <th>publisher</th>\n",
       "      <th>date</th>\n",
       "    </tr>\n",
       "  </thead>\n",
       "  <tbody>\n",
       "    <tr>\n",
       "      <th>0</th>\n",
       "      <td>3</td>\n",
       "      <td>A distinctly gallows take on contemporary fina...</td>\n",
       "      <td>3/5</td>\n",
       "      <td>fresh</td>\n",
       "      <td>PJ Nabarro</td>\n",
       "      <td>0</td>\n",
       "      <td>Patrick Nabarro</td>\n",
       "      <td>November 10, 2018</td>\n",
       "    </tr>\n",
       "    <tr>\n",
       "      <th>1</th>\n",
       "      <td>3</td>\n",
       "      <td>It's an allegory in search of a meaning that n...</td>\n",
       "      <td>NaN</td>\n",
       "      <td>rotten</td>\n",
       "      <td>Annalee Newitz</td>\n",
       "      <td>0</td>\n",
       "      <td>io9.com</td>\n",
       "      <td>May 23, 2018</td>\n",
       "    </tr>\n",
       "    <tr>\n",
       "      <th>2</th>\n",
       "      <td>3</td>\n",
       "      <td>... life lived in a bubble in financial dealin...</td>\n",
       "      <td>NaN</td>\n",
       "      <td>fresh</td>\n",
       "      <td>Sean Axmaker</td>\n",
       "      <td>0</td>\n",
       "      <td>Stream on Demand</td>\n",
       "      <td>January 4, 2018</td>\n",
       "    </tr>\n",
       "    <tr>\n",
       "      <th>3</th>\n",
       "      <td>3</td>\n",
       "      <td>Continuing along a line introduced in last yea...</td>\n",
       "      <td>NaN</td>\n",
       "      <td>fresh</td>\n",
       "      <td>Daniel Kasman</td>\n",
       "      <td>0</td>\n",
       "      <td>MUBI</td>\n",
       "      <td>November 16, 2017</td>\n",
       "    </tr>\n",
       "    <tr>\n",
       "      <th>4</th>\n",
       "      <td>3</td>\n",
       "      <td>... a perverse twist on neorealism...</td>\n",
       "      <td>NaN</td>\n",
       "      <td>fresh</td>\n",
       "      <td>NaN</td>\n",
       "      <td>0</td>\n",
       "      <td>Cinema Scope</td>\n",
       "      <td>October 12, 2017</td>\n",
       "    </tr>\n",
       "  </tbody>\n",
       "</table>\n",
       "</div>"
      ],
      "text/plain": [
       "   id                                             review rating   fresh  \\\n",
       "0   3  A distinctly gallows take on contemporary fina...    3/5   fresh   \n",
       "1   3  It's an allegory in search of a meaning that n...    NaN  rotten   \n",
       "2   3  ... life lived in a bubble in financial dealin...    NaN   fresh   \n",
       "3   3  Continuing along a line introduced in last yea...    NaN   fresh   \n",
       "4   3             ... a perverse twist on neorealism...     NaN   fresh   \n",
       "\n",
       "           critic  top_critic         publisher               date  \n",
       "0      PJ Nabarro           0   Patrick Nabarro  November 10, 2018  \n",
       "1  Annalee Newitz           0           io9.com       May 23, 2018  \n",
       "2    Sean Axmaker           0  Stream on Demand    January 4, 2018  \n",
       "3   Daniel Kasman           0              MUBI  November 16, 2017  \n",
       "4             NaN           0      Cinema Scope   October 12, 2017  "
      ]
     },
     "execution_count": 10,
     "metadata": {},
     "output_type": "execute_result"
    }
   ],
   "source": [
    "rt_reviews_df.head()"
   ]
  },
  {
   "cell_type": "markdown",
   "metadata": {},
   "source": [
    "clean the data"
   ]
  },
  {
   "cell_type": "code",
   "execution_count": 11,
   "metadata": {},
   "outputs": [
    {
     "name": "stdout",
     "output_type": "stream",
     "text": [
      "<class 'pandas.core.frame.DataFrame'>\n",
      "RangeIndex: 54432 entries, 0 to 54431\n",
      "Data columns (total 8 columns):\n",
      " #   Column      Non-Null Count  Dtype \n",
      "---  ------      --------------  ----- \n",
      " 0   id          54432 non-null  int64 \n",
      " 1   review      54432 non-null  object\n",
      " 2   rating      54432 non-null  object\n",
      " 3   fresh       54432 non-null  object\n",
      " 4   critic      54432 non-null  object\n",
      " 5   top_critic  54432 non-null  int64 \n",
      " 6   publisher   54432 non-null  object\n",
      " 7   date        54432 non-null  object\n",
      "dtypes: int64(2), object(6)\n",
      "memory usage: 3.3+ MB\n"
     ]
    }
   ],
   "source": [
    "#Fill missing values in review, rating, critic, publisher columns with 'N/A'\n",
    "rt_reviews_df['review'].fillna('N/A', inplace=True)\n",
    "rt_reviews_df['rating'].fillna('N/A', inplace=True)\n",
    "rt_reviews_df['critic'].fillna('N/A', inplace=True)\n",
    "rt_reviews_df['publisher'].fillna('N/A', inplace=True)\n",
    "\n",
    "#Ensure changes worked\n",
    "rt_reviews_df.info()"
   ]
  },
  {
   "cell_type": "markdown",
   "metadata": {},
   "source": [
    "## tmdb.movies data\n",
    "\n",
    "Preview the data"
   ]
  },
  {
   "cell_type": "code",
   "execution_count": 12,
   "metadata": {},
   "outputs": [
    {
     "name": "stdout",
     "output_type": "stream",
     "text": [
      "tmdb.movies \n",
      "\n",
      "<class 'pandas.core.frame.DataFrame'>\n",
      "RangeIndex: 26517 entries, 0 to 26516\n",
      "Data columns (total 10 columns):\n",
      " #   Column             Non-Null Count  Dtype  \n",
      "---  ------             --------------  -----  \n",
      " 0   Unnamed: 0         26517 non-null  int64  \n",
      " 1   genre_ids          26517 non-null  object \n",
      " 2   id                 26517 non-null  int64  \n",
      " 3   original_language  26517 non-null  object \n",
      " 4   original_title     26517 non-null  object \n",
      " 5   popularity         26517 non-null  float64\n",
      " 6   release_date       26517 non-null  object \n",
      " 7   title              26517 non-null  object \n",
      " 8   vote_average       26517 non-null  float64\n",
      " 9   vote_count         26517 non-null  int64  \n",
      "dtypes: float64(2), int64(3), object(5)\n",
      "memory usage: 2.0+ MB\n"
     ]
    }
   ],
   "source": [
    "print('tmdb.movies', '\\n')\n",
    "tmdb_df.info()"
   ]
  },
  {
   "cell_type": "code",
   "execution_count": 13,
   "metadata": {},
   "outputs": [
    {
     "data": {
      "text/html": [
       "<div>\n",
       "<style scoped>\n",
       "    .dataframe tbody tr th:only-of-type {\n",
       "        vertical-align: middle;\n",
       "    }\n",
       "\n",
       "    .dataframe tbody tr th {\n",
       "        vertical-align: top;\n",
       "    }\n",
       "\n",
       "    .dataframe thead th {\n",
       "        text-align: right;\n",
       "    }\n",
       "</style>\n",
       "<table border=\"1\" class=\"dataframe\">\n",
       "  <thead>\n",
       "    <tr style=\"text-align: right;\">\n",
       "      <th></th>\n",
       "      <th>Unnamed: 0</th>\n",
       "      <th>genre_ids</th>\n",
       "      <th>id</th>\n",
       "      <th>original_language</th>\n",
       "      <th>original_title</th>\n",
       "      <th>popularity</th>\n",
       "      <th>release_date</th>\n",
       "      <th>title</th>\n",
       "      <th>vote_average</th>\n",
       "      <th>vote_count</th>\n",
       "    </tr>\n",
       "  </thead>\n",
       "  <tbody>\n",
       "    <tr>\n",
       "      <th>0</th>\n",
       "      <td>0</td>\n",
       "      <td>[12, 14, 10751]</td>\n",
       "      <td>12444</td>\n",
       "      <td>en</td>\n",
       "      <td>Harry Potter and the Deathly Hallows: Part 1</td>\n",
       "      <td>33.533</td>\n",
       "      <td>2010-11-19</td>\n",
       "      <td>Harry Potter and the Deathly Hallows: Part 1</td>\n",
       "      <td>7.7</td>\n",
       "      <td>10788</td>\n",
       "    </tr>\n",
       "    <tr>\n",
       "      <th>1</th>\n",
       "      <td>1</td>\n",
       "      <td>[14, 12, 16, 10751]</td>\n",
       "      <td>10191</td>\n",
       "      <td>en</td>\n",
       "      <td>How to Train Your Dragon</td>\n",
       "      <td>28.734</td>\n",
       "      <td>2010-03-26</td>\n",
       "      <td>How to Train Your Dragon</td>\n",
       "      <td>7.7</td>\n",
       "      <td>7610</td>\n",
       "    </tr>\n",
       "    <tr>\n",
       "      <th>2</th>\n",
       "      <td>2</td>\n",
       "      <td>[12, 28, 878]</td>\n",
       "      <td>10138</td>\n",
       "      <td>en</td>\n",
       "      <td>Iron Man 2</td>\n",
       "      <td>28.515</td>\n",
       "      <td>2010-05-07</td>\n",
       "      <td>Iron Man 2</td>\n",
       "      <td>6.8</td>\n",
       "      <td>12368</td>\n",
       "    </tr>\n",
       "    <tr>\n",
       "      <th>3</th>\n",
       "      <td>3</td>\n",
       "      <td>[16, 35, 10751]</td>\n",
       "      <td>862</td>\n",
       "      <td>en</td>\n",
       "      <td>Toy Story</td>\n",
       "      <td>28.005</td>\n",
       "      <td>1995-11-22</td>\n",
       "      <td>Toy Story</td>\n",
       "      <td>7.9</td>\n",
       "      <td>10174</td>\n",
       "    </tr>\n",
       "    <tr>\n",
       "      <th>4</th>\n",
       "      <td>4</td>\n",
       "      <td>[28, 878, 12]</td>\n",
       "      <td>27205</td>\n",
       "      <td>en</td>\n",
       "      <td>Inception</td>\n",
       "      <td>27.920</td>\n",
       "      <td>2010-07-16</td>\n",
       "      <td>Inception</td>\n",
       "      <td>8.3</td>\n",
       "      <td>22186</td>\n",
       "    </tr>\n",
       "  </tbody>\n",
       "</table>\n",
       "</div>"
      ],
      "text/plain": [
       "   Unnamed: 0            genre_ids     id original_language  \\\n",
       "0           0      [12, 14, 10751]  12444                en   \n",
       "1           1  [14, 12, 16, 10751]  10191                en   \n",
       "2           2        [12, 28, 878]  10138                en   \n",
       "3           3      [16, 35, 10751]    862                en   \n",
       "4           4        [28, 878, 12]  27205                en   \n",
       "\n",
       "                                 original_title  popularity release_date  \\\n",
       "0  Harry Potter and the Deathly Hallows: Part 1      33.533   2010-11-19   \n",
       "1                      How to Train Your Dragon      28.734   2010-03-26   \n",
       "2                                    Iron Man 2      28.515   2010-05-07   \n",
       "3                                     Toy Story      28.005   1995-11-22   \n",
       "4                                     Inception      27.920   2010-07-16   \n",
       "\n",
       "                                          title  vote_average  vote_count  \n",
       "0  Harry Potter and the Deathly Hallows: Part 1           7.7       10788  \n",
       "1                      How to Train Your Dragon           7.7        7610  \n",
       "2                                    Iron Man 2           6.8       12368  \n",
       "3                                     Toy Story           7.9       10174  \n",
       "4                                     Inception           8.3       22186  "
      ]
     },
     "execution_count": 13,
     "metadata": {},
     "output_type": "execute_result"
    }
   ],
   "source": [
    "tmdb_df.head()"
   ]
  },
  {
   "cell_type": "markdown",
   "metadata": {},
   "source": [
    "Clean the data"
   ]
  },
  {
   "cell_type": "code",
   "execution_count": 14,
   "metadata": {},
   "outputs": [
    {
     "name": "stdout",
     "output_type": "stream",
     "text": [
      "<class 'pandas.core.frame.DataFrame'>\n",
      "RangeIndex: 26517 entries, 0 to 26516\n",
      "Data columns (total 9 columns):\n",
      " #   Column             Non-Null Count  Dtype         \n",
      "---  ------             --------------  -----         \n",
      " 0   genre_ids          26517 non-null  object        \n",
      " 1   id                 26517 non-null  int64         \n",
      " 2   original_language  26517 non-null  object        \n",
      " 3   original_title     26517 non-null  object        \n",
      " 4   popularity         26517 non-null  float64       \n",
      " 5   release_date       26517 non-null  datetime64[ns]\n",
      " 6   title              26517 non-null  object        \n",
      " 7   vote_average       26517 non-null  float64       \n",
      " 8   vote_count         26517 non-null  int64         \n",
      "dtypes: datetime64[ns](1), float64(2), int64(2), object(4)\n",
      "memory usage: 1.8+ MB\n"
     ]
    }
   ],
   "source": [
    "#Drop Unnamed column\n",
    "tmdb_df.drop(columns=['Unnamed: 0'], inplace=True)\n",
    "\n",
    "#Change release_date to datetime format\n",
    "tmdb_df['release_date'] = pd.to_datetime(tmdb_df['release_date'])\n",
    "\n",
    "#Ensure changes worked\n",
    "tmdb_df.info()\n"
   ]
  },
  {
   "cell_type": "markdown",
   "metadata": {},
   "source": [
    "## tn.movie_budgets data\n",
    "\n",
    "Preview the data"
   ]
  },
  {
   "cell_type": "code",
   "execution_count": 15,
   "metadata": {},
   "outputs": [
    {
     "name": "stdout",
     "output_type": "stream",
     "text": [
      "tn.movie_budgets \n",
      "\n",
      "<class 'pandas.core.frame.DataFrame'>\n",
      "RangeIndex: 5782 entries, 0 to 5781\n",
      "Data columns (total 6 columns):\n",
      " #   Column             Non-Null Count  Dtype \n",
      "---  ------             --------------  ----- \n",
      " 0   id                 5782 non-null   int64 \n",
      " 1   release_date       5782 non-null   object\n",
      " 2   movie              5782 non-null   object\n",
      " 3   production_budget  5782 non-null   object\n",
      " 4   domestic_gross     5782 non-null   object\n",
      " 5   worldwide_gross    5782 non-null   object\n",
      "dtypes: int64(1), object(5)\n",
      "memory usage: 271.2+ KB\n"
     ]
    }
   ],
   "source": [
    "print('tn.movie_budgets', '\\n')\n",
    "tn_df.info()"
   ]
  },
  {
   "cell_type": "code",
   "execution_count": 16,
   "metadata": {},
   "outputs": [
    {
     "data": {
      "text/html": [
       "<div>\n",
       "<style scoped>\n",
       "    .dataframe tbody tr th:only-of-type {\n",
       "        vertical-align: middle;\n",
       "    }\n",
       "\n",
       "    .dataframe tbody tr th {\n",
       "        vertical-align: top;\n",
       "    }\n",
       "\n",
       "    .dataframe thead th {\n",
       "        text-align: right;\n",
       "    }\n",
       "</style>\n",
       "<table border=\"1\" class=\"dataframe\">\n",
       "  <thead>\n",
       "    <tr style=\"text-align: right;\">\n",
       "      <th></th>\n",
       "      <th>id</th>\n",
       "      <th>release_date</th>\n",
       "      <th>movie</th>\n",
       "      <th>production_budget</th>\n",
       "      <th>domestic_gross</th>\n",
       "      <th>worldwide_gross</th>\n",
       "    </tr>\n",
       "  </thead>\n",
       "  <tbody>\n",
       "    <tr>\n",
       "      <th>0</th>\n",
       "      <td>1</td>\n",
       "      <td>Dec 18, 2009</td>\n",
       "      <td>Avatar</td>\n",
       "      <td>$425,000,000</td>\n",
       "      <td>$760,507,625</td>\n",
       "      <td>$2,776,345,279</td>\n",
       "    </tr>\n",
       "    <tr>\n",
       "      <th>1</th>\n",
       "      <td>2</td>\n",
       "      <td>May 20, 2011</td>\n",
       "      <td>Pirates of the Caribbean: On Stranger Tides</td>\n",
       "      <td>$410,600,000</td>\n",
       "      <td>$241,063,875</td>\n",
       "      <td>$1,045,663,875</td>\n",
       "    </tr>\n",
       "    <tr>\n",
       "      <th>2</th>\n",
       "      <td>3</td>\n",
       "      <td>Jun 7, 2019</td>\n",
       "      <td>Dark Phoenix</td>\n",
       "      <td>$350,000,000</td>\n",
       "      <td>$42,762,350</td>\n",
       "      <td>$149,762,350</td>\n",
       "    </tr>\n",
       "    <tr>\n",
       "      <th>3</th>\n",
       "      <td>4</td>\n",
       "      <td>May 1, 2015</td>\n",
       "      <td>Avengers: Age of Ultron</td>\n",
       "      <td>$330,600,000</td>\n",
       "      <td>$459,005,868</td>\n",
       "      <td>$1,403,013,963</td>\n",
       "    </tr>\n",
       "    <tr>\n",
       "      <th>4</th>\n",
       "      <td>5</td>\n",
       "      <td>Dec 15, 2017</td>\n",
       "      <td>Star Wars Ep. VIII: The Last Jedi</td>\n",
       "      <td>$317,000,000</td>\n",
       "      <td>$620,181,382</td>\n",
       "      <td>$1,316,721,747</td>\n",
       "    </tr>\n",
       "  </tbody>\n",
       "</table>\n",
       "</div>"
      ],
      "text/plain": [
       "   id  release_date                                        movie  \\\n",
       "0   1  Dec 18, 2009                                       Avatar   \n",
       "1   2  May 20, 2011  Pirates of the Caribbean: On Stranger Tides   \n",
       "2   3   Jun 7, 2019                                 Dark Phoenix   \n",
       "3   4   May 1, 2015                      Avengers: Age of Ultron   \n",
       "4   5  Dec 15, 2017            Star Wars Ep. VIII: The Last Jedi   \n",
       "\n",
       "  production_budget domestic_gross worldwide_gross  \n",
       "0      $425,000,000   $760,507,625  $2,776,345,279  \n",
       "1      $410,600,000   $241,063,875  $1,045,663,875  \n",
       "2      $350,000,000    $42,762,350    $149,762,350  \n",
       "3      $330,600,000   $459,005,868  $1,403,013,963  \n",
       "4      $317,000,000   $620,181,382  $1,316,721,747  "
      ]
     },
     "execution_count": 16,
     "metadata": {},
     "output_type": "execute_result"
    }
   ],
   "source": [
    "tn_df.head()"
   ]
  },
  {
   "cell_type": "markdown",
   "metadata": {},
   "source": [
    "Clean the data"
   ]
  },
  {
   "cell_type": "code",
   "execution_count": 17,
   "metadata": {},
   "outputs": [
    {
     "name": "stdout",
     "output_type": "stream",
     "text": [
      "<class 'pandas.core.frame.DataFrame'>\n",
      "RangeIndex: 5782 entries, 0 to 5781\n",
      "Data columns (total 6 columns):\n",
      " #   Column             Non-Null Count  Dtype         \n",
      "---  ------             --------------  -----         \n",
      " 0   id                 5782 non-null   int64         \n",
      " 1   release_date       5782 non-null   datetime64[ns]\n",
      " 2   movie              5782 non-null   object        \n",
      " 3   production_budget  5782 non-null   float64       \n",
      " 4   domestic_gross     5782 non-null   float64       \n",
      " 5   worldwide_gross    5782 non-null   float64       \n",
      "dtypes: datetime64[ns](1), float64(3), int64(1), object(1)\n",
      "memory usage: 271.2+ KB\n"
     ]
    }
   ],
   "source": [
    "\n",
    "#Remove dollar sign \n",
    "\n",
    "tn_df['production_budget'] = tn_df['production_budget'].str.replace('$', '')\n",
    "tn_df['domestic_gross'] = tn_df['domestic_gross'].str.replace('$', '')\n",
    "tn_df['worldwide_gross'] = tn_df['worldwide_gross'].str.replace('$', '')\n",
    "\n",
    "#Remove comma\n",
    "tn_df['production_budget'].replace(',', '', regex=True, inplace=True)\n",
    "tn_df['domestic_gross'].replace(',', '', regex=True, inplace=True)\n",
    "tn_df['worldwide_gross'].replace(',', '', regex=True, inplace=True)\n",
    "\n",
    "#Change production_budget, domestic_gross and worldwide_gross to float64\n",
    "tn_df['production_budget'] = tn_df['production_budget'].astype('float64')\n",
    "tn_df['domestic_gross'] = tn_df['domestic_gross'].astype('float64')\n",
    "tn_df['worldwide_gross'] = tn_df['worldwide_gross'].astype('float64')\n",
    "\n",
    "#Convert release_date to datetime format\n",
    "tn_df['release_date'] = pd.to_datetime(tn_df['release_date'])\n",
    "\n",
    "#Ensure changes worked\n",
    "tn_df.info()"
   ]
  },
  {
   "cell_type": "markdown",
   "metadata": {},
   "source": [
    "## Feature Engineering\n",
    "\n",
    "Before getting into the analytical bit of the cleaned data,it is important to get a better understanding of a movie's success by calculating its profit and profit margin(%) before diving into the factors that make it a success\n",
    "\n",
    "Note: domestic gross measures a movie's performance in its home country, while worldwide gross measures its performance globally.\n",
    "\n",
    "Note:Profit margin is a measure of a movie's profitability, which indicates the percentage of revenue that remains after deducting all the production, marketing, and distribution expenses."
   ]
  },
  {
   "cell_type": "code",
   "execution_count": 18,
   "metadata": {},
   "outputs": [
    {
     "data": {
      "text/html": [
       "<div>\n",
       "<style scoped>\n",
       "    .dataframe tbody tr th:only-of-type {\n",
       "        vertical-align: middle;\n",
       "    }\n",
       "\n",
       "    .dataframe tbody tr th {\n",
       "        vertical-align: top;\n",
       "    }\n",
       "\n",
       "    .dataframe thead th {\n",
       "        text-align: right;\n",
       "    }\n",
       "</style>\n",
       "<table border=\"1\" class=\"dataframe\">\n",
       "  <thead>\n",
       "    <tr style=\"text-align: right;\">\n",
       "      <th></th>\n",
       "      <th>id</th>\n",
       "      <th>release_date</th>\n",
       "      <th>movie</th>\n",
       "      <th>production_budget</th>\n",
       "      <th>domestic_gross</th>\n",
       "      <th>worldwide_gross</th>\n",
       "      <th>profit</th>\n",
       "      <th>profit_margin</th>\n",
       "    </tr>\n",
       "  </thead>\n",
       "  <tbody>\n",
       "    <tr>\n",
       "      <th>0</th>\n",
       "      <td>1</td>\n",
       "      <td>2009-12-18</td>\n",
       "      <td>Avatar</td>\n",
       "      <td>425000000.0</td>\n",
       "      <td>760507625.0</td>\n",
       "      <td>2.776345e+09</td>\n",
       "      <td>2.351345e+09</td>\n",
       "      <td>84.69</td>\n",
       "    </tr>\n",
       "    <tr>\n",
       "      <th>1</th>\n",
       "      <td>2</td>\n",
       "      <td>2011-05-20</td>\n",
       "      <td>Pirates of the Caribbean: On Stranger Tides</td>\n",
       "      <td>410600000.0</td>\n",
       "      <td>241063875.0</td>\n",
       "      <td>1.045664e+09</td>\n",
       "      <td>6.350639e+08</td>\n",
       "      <td>60.73</td>\n",
       "    </tr>\n",
       "    <tr>\n",
       "      <th>2</th>\n",
       "      <td>3</td>\n",
       "      <td>2019-06-07</td>\n",
       "      <td>Dark Phoenix</td>\n",
       "      <td>350000000.0</td>\n",
       "      <td>42762350.0</td>\n",
       "      <td>1.497624e+08</td>\n",
       "      <td>-2.002376e+08</td>\n",
       "      <td>-133.70</td>\n",
       "    </tr>\n",
       "    <tr>\n",
       "      <th>3</th>\n",
       "      <td>4</td>\n",
       "      <td>2015-05-01</td>\n",
       "      <td>Avengers: Age of Ultron</td>\n",
       "      <td>330600000.0</td>\n",
       "      <td>459005868.0</td>\n",
       "      <td>1.403014e+09</td>\n",
       "      <td>1.072414e+09</td>\n",
       "      <td>76.44</td>\n",
       "    </tr>\n",
       "    <tr>\n",
       "      <th>4</th>\n",
       "      <td>5</td>\n",
       "      <td>2017-12-15</td>\n",
       "      <td>Star Wars Ep. VIII: The Last Jedi</td>\n",
       "      <td>317000000.0</td>\n",
       "      <td>620181382.0</td>\n",
       "      <td>1.316722e+09</td>\n",
       "      <td>9.997217e+08</td>\n",
       "      <td>75.93</td>\n",
       "    </tr>\n",
       "  </tbody>\n",
       "</table>\n",
       "</div>"
      ],
      "text/plain": [
       "   id release_date                                        movie  \\\n",
       "0   1   2009-12-18                                       Avatar   \n",
       "1   2   2011-05-20  Pirates of the Caribbean: On Stranger Tides   \n",
       "2   3   2019-06-07                                 Dark Phoenix   \n",
       "3   4   2015-05-01                      Avengers: Age of Ultron   \n",
       "4   5   2017-12-15            Star Wars Ep. VIII: The Last Jedi   \n",
       "\n",
       "   production_budget  domestic_gross  worldwide_gross        profit  \\\n",
       "0        425000000.0     760507625.0     2.776345e+09  2.351345e+09   \n",
       "1        410600000.0     241063875.0     1.045664e+09  6.350639e+08   \n",
       "2        350000000.0      42762350.0     1.497624e+08 -2.002376e+08   \n",
       "3        330600000.0     459005868.0     1.403014e+09  1.072414e+09   \n",
       "4        317000000.0     620181382.0     1.316722e+09  9.997217e+08   \n",
       "\n",
       "   profit_margin  \n",
       "0          84.69  \n",
       "1          60.73  \n",
       "2        -133.70  \n",
       "3          76.44  \n",
       "4          75.93  "
      ]
     },
     "execution_count": 18,
     "metadata": {},
     "output_type": "execute_result"
    }
   ],
   "source": [
    "#Create the profit column\n",
    "tn_df['profit'] = tn_df['worldwide_gross'] - tn_df['production_budget']\n",
    "\n",
    "#Create the profit_margin column\n",
    "tn_df['profit_margin'] = (round(tn_df['profit'] / tn_df['worldwide_gross'], 4))*100\n",
    "\n",
    "# Keep only rows where worldwide_gross is non-zero\n",
    "tn_df = tn_df[tn_df['worldwide_gross'] != 0]\n",
    "\n",
    "tn_df.head()"
   ]
  },
  {
   "cell_type": "code",
   "execution_count": 19,
   "metadata": {},
   "outputs": [
    {
     "data": {
      "image/png": "[encoded data removed]",
      "text/plain": [
       "<Figure size 1152x360 with 2 Axes>"
      ]
     },
     "metadata": {
      "needs_background": "light"
     },
     "output_type": "display_data"
    }
   ],
   "source": [
    "#Sort by profit to see most successful movies\n",
    "top_20_profit = tn_df.sort_values(by='profit', ascending=False)[:20]\n",
    "\n",
    "\n",
    "fig, (ax1,ax2) = plt.subplots(ncols=2, figsize=(16, 5))\n",
    "\n",
    "ax1.bar(top_20_profit['movie'], top_20_profit['profit'])\n",
    "ax2.bar(top_20_profit['movie'], top_20_profit['production_budget'])\n",
    "\n",
    "# Customize appearance\n",
    "ax1.tick_params(axis=\"x\", labelrotation=90)\n",
    "ax2.tick_params(axis=\"x\", labelrotation=90)\n",
    "ax1.set_ylabel(\"Profit (in billions)\")\n",
    "ax2.set_ylabel(\"Production Cost (in millions)\")\n",
    "ax1.set_title(\"Top 20 Movies by Profit\")\n",
    "ax2.set_title(\"Top 20 Movies by Poduction cost\");"
   ]
  },
  {
   "cell_type": "markdown",
   "metadata": {},
   "source": [
    "Combine the visualizations for insights of profit made per movie"
   ]
  },
  {
   "cell_type": "code",
   "execution_count": 20,
   "metadata": {},
   "outputs": [
    {
     "data": {
      "image/png": "[encoded data removed]",
      "text/plain": [
       "<Figure size 864x576 with 1 Axes>"
      ]
     },
     "metadata": {
      "needs_background": "light"
     },
     "output_type": "display_data"
    }
   ],
   "source": [
    "\n",
    "plt.figure(figsize=(12, 8))\n",
    "#plt.style.use('dark_background')\n",
    "\n",
    "plt.barh(top_20_profit['movie'], top_20_profit['profit'], label='Average Profit', color='cyan')\n",
    "plt.barh(top_20_profit['movie'], top_20_profit['production_budget'], label='Average Budget', color='gray')\n",
    "\n",
    "plt.title('Top 20 Movies by Profit', fontsize=16)\n",
    "plt.xlabel('Net Profit (in billions)')\n",
    "plt.ylabel('Movies')\n",
    "plt.legend()\n",
    "plt.tight_layout()\n",
    "\n",
    "plt.show()"
   ]
  },
  {
   "cell_type": "markdown",
   "metadata": {},
   "source": [
    "# Data Analysis"
   ]
  },
  {
   "cell_type": "markdown",
   "metadata": {},
   "source": [
    "## Question 1: Which movie genres are most commonly produced and does quantity equate to higher gross return?\n",
    "\n"
   ]
  },
  {
   "cell_type": "code",
   "execution_count": 21,
   "metadata": {},
   "outputs": [
    {
     "data": {
      "text/plain": [
       "genre\n",
       "Drama                                               151\n",
       "Comedy                                              110\n",
       "Comedy|Drama                                         80\n",
       "Drama|Mystery and Suspense                           67\n",
       "Art House and International|Drama                    62\n",
       "Action and Adventure|Drama                           42\n",
       "Action and Adventure|Drama|Mystery and Suspense      40\n",
       "Drama|Romance                                        35\n",
       "Comedy|Romance                                       32\n",
       "Horror                                               31\n",
       "Art House and International|Comedy|Drama             31\n",
       "Action and Adventure|Science Fiction and Fantasy     24\n",
       "Comedy|Drama|Romance                                 23\n",
       "Classics|Drama                                       21\n",
       "Action and Adventure|Mystery and Suspense            20\n",
       "Action and Adventure                                 19\n",
       "Classics|Drama|Mystery and Suspense                  18\n",
       "Horror|Mystery and Suspense                          17\n",
       "Drama|Musical and Performing Arts                    14\n",
       "Documentary|Special Interest                         14\n",
       "Name: synopsis, dtype: int64"
      ]
     },
     "execution_count": 21,
     "metadata": {},
     "output_type": "execute_result"
    }
   ],
   "source": [
    "#display movie count by genre\n",
    "#Do a count of top 20 movies grouped by genre.\n",
    "m_by_genre = rt_movie_df.groupby('genre', as_index=True)['synopsis'].count().sort_values(ascending=False)[:20]\n",
    "m_by_genre"
   ]
  },
  {
   "cell_type": "code",
   "execution_count": 22,
   "metadata": {},
   "outputs": [
    {
     "data": {
      "image/png": "[encoded data removed]",
      "text/plain": [
       "<Figure size 720x576 with 1 Axes>"
      ]
     },
     "metadata": {
      "needs_background": "light"
     },
     "output_type": "display_data"
    }
   ],
   "source": [
    "# Display the data as a horizontal bar plot\n",
    "fig, ax = plt.subplots(figsize=(10,8))\n",
    "m_by_genre.plot(kind='barh', ax=ax)\n",
    "ax.set_xlabel('Movie Count')\n",
    "ax.set_ylabel('Genre')\n",
    "ax.set_title('Movie Count by Genre')\n",
    "plt.savefig('MovieCountbyGenre')\n",
    "plt.show()"
   ]
  },
  {
   "cell_type": "markdown",
   "metadata": {},
   "source": [
    "We can see that drama, comedy, and Action dominate the quantity of movie genres but does this necessarily mean these are the most profitable genres? In order to determine this we will once again group each genre but this time we are going to take a look at the average box office  for each."
   ]
  },
  {
   "cell_type": "code",
   "execution_count": 23,
   "metadata": {},
   "outputs": [
    {
     "data": {
      "text/plain": [
       "genre\n",
       "Kids and Family|Science Fiction and Fantasy                                    261835892.0\n",
       "Science Fiction and Fantasy                                                    190871149.0\n",
       "Action and Adventure|Science Fiction and Fantasy                               154485963.0\n",
       "Action and Adventure|Drama|Science Fiction and Fantasy                         139111161.5\n",
       "Drama|Horror|Mystery and Suspense|Romance                                      128579698.0\n",
       "Comedy|Kids and Family|Romance                                                 127706877.0\n",
       "Drama|Science Fiction and Fantasy|Romance                                      127490802.0\n",
       "Action and Adventure|Animation|Kids and Family                                 123188232.0\n",
       "Action and Adventure|Drama|Mystery and Suspense|Science Fiction and Fantasy    119000000.0\n",
       "Action and Adventure|Animation|Comedy                                          114053579.0\n",
       "Action and Adventure|Animation|Comedy|Drama|Kids and Family                    106604314.0\n",
       "Action and Adventure|Comedy|Science Fiction and Fantasy                         98000000.0\n",
       "Animation|Comedy                                                                97661826.0\n",
       "Action and Adventure|Mystery and Suspense|Science Fiction and Fantasy           95018863.0\n",
       "Action and Adventure|Drama|Mystery and Suspense                                 74223625.0\n",
       "Comedy|Kids and Family                                                          73234714.0\n",
       "Action and Adventure|Horror|Kids and Family|Science Fiction and Fantasy         73058679.0\n",
       "Action and Adventure|Comedy|Kids and Family                                     73023275.0\n",
       "Animation|Comedy|Kids and Family                                                69590952.0\n",
       "Action and Adventure|Mystery and Suspense|Romance                               67631157.0\n",
       "Name: box_office, dtype: float64"
      ]
     },
     "execution_count": 23,
     "metadata": {},
     "output_type": "execute_result"
    }
   ],
   "source": [
    "# Replace \"N/A\" with NaN in the box_office column\n",
    "rt_movie_df['box_office'] = rt_movie_df['box_office'].replace('N/A', np.nan)\n",
    "\n",
    "# Drop missing values in the box_office column\n",
    "rt_movie_df = rt_movie_df.dropna(subset=['box_office'])\n",
    "rt_movie_df = rt_movie_df[rt_movie_df['box_office'] != 0] #only display box office values greater than 0\n",
    "rt_movie_df['box_office'].replace(',', '', regex=True, inplace=True) # remove the extraneous comma\n",
    "rt_movie_df['box_office'] = rt_movie_df['box_office'].astype('float64') #convert box office from object to float data type\n",
    "\n",
    "\n",
    "# Group the box office median by genre\n",
    "median_box_office_by_genre = rt_movie_df.groupby('genre')['box_office'].median().sort_values(ascending=False)[:20]\n",
    "\n",
    "median_box_office_by_genre"
   ]
  },
  {
   "cell_type": "code",
   "execution_count": 24,
   "metadata": {},
   "outputs": [
    {
     "data": {
      "image/png": "[encoded data removed]",
      "text/plain": [
       "<Figure size 720x576 with 1 Axes>"
      ]
     },
     "metadata": {
      "needs_background": "light"
     },
     "output_type": "display_data"
    }
   ],
   "source": [
    "# Display the data as a horizontal bar plot\n",
    "fig, ax = plt.subplots(figsize=(10,8))\n",
    "median_box_office_by_genre.plot(kind='barh', ax=ax)\n",
    "ax.set_xlabel('Box Office Median')\n",
    "ax.set_ylabel('Genre')\n",
    "ax.set_title('Median Box Office by Genre')\n",
    "plt.savefig('MedianboxofficebyGenre')\n",
    "plt.show()\n"
   ]
  },
  {
   "cell_type": "markdown",
   "metadata": {},
   "source": [
    "Interesting, although they are not the most commonly released genres; animation, adventure, and sci-fi typically have the most success in terms of median box office return. We can also see that Animation has a desirable profit margin along with horror. \n",
    "\n",
    "\n",
    "**Question 1 Answer**: I recommend focusing efforts on the top 6 most profitable movie genres: **Adventure, Action, Comedy, Drama, Sci-Fi and Animation**. A further recommendation to focus on Fantasy, Sci-Fi and Animation due to less competition and a higher opportunity to profit."
   ]
  },
  {
   "cell_type": "markdown",
   "metadata": {},
   "source": [
    "## Question 2: What is the best time of the year to release a movie?\n",
    "\n",
    "I first determined the months that see the most movie releases"
   ]
  },
  {
   "cell_type": "code",
   "execution_count": 25,
   "metadata": {},
   "outputs": [
    {
     "data": {
      "text/plain": [
       "month\n",
       "January      328\n",
       "February     370\n",
       "March        440\n",
       "April        433\n",
       "May          393\n",
       "June         459\n",
       "July         424\n",
       "August       473\n",
       "September    466\n",
       "October      542\n",
       "November     466\n",
       "December     621\n",
       "dtype: int64"
      ]
     },
     "execution_count": 25,
     "metadata": {},
     "output_type": "execute_result"
    }
   ],
   "source": [
    "#Add a new column called month, displaying only the month from the release date.\n",
    "# extract month name from release date column which is altrady in datattime data type\n",
    "tn_df['month'] = tn_df['release_date'].dt.month_name()\n",
    "\n",
    "#Count the total number of movies in each month.\n",
    "movies_per_month = tn_df.groupby('month').size()\n",
    "#reorder the rows in order\n",
    "movies_per_month = movies_per_month.reindex(['January', 'February', 'March', 'April', 'May', 'June', 'July', 'August', 'September', 'October', 'November', 'December'])  # Reorder the rows to match the desired order\n",
    "movies_per_month\n"
   ]
  },
  {
   "cell_type": "code",
   "execution_count": 26,
   "metadata": {},
   "outputs": [
    {
     "data": {
      "image/png": "[encoded data removed]",
      "text/plain": [
       "<Figure size 864x576 with 1 Axes>"
      ]
     },
     "metadata": {
      "needs_background": "light"
     },
     "output_type": "display_data"
    }
   ],
   "source": [
    "#plot bar\n",
    "ax = movies_per_month.plot(kind='bar', color='green', figsize=(12, 8))  # Create the bar plot\n",
    "ax.set_xlabel('Month', fontsize=12)  # Set the x-axis label and font size\n",
    "ax.set_ylabel('Count', fontsize=12)  # Set the y-axis label and font size\n",
    "ax.set_title('Count of Movie Release By Month', fontsize=16)  # Set the plot title and font size\n",
    "plt.savefig('CountbyMonth')  # Save the plot to a file\n"
   ]
  },
  {
   "cell_type": "markdown",
   "metadata": {},
   "source": [
    "Largest number of movie releases tend to happen in October and November as indicated. Next we look at the average net income for each movie to ascertain the level of profitability."
   ]
  },
  {
   "cell_type": "code",
   "execution_count": 27,
   "metadata": {},
   "outputs": [
    {
     "data": {
      "text/plain": [
       "Index(['id', 'release_date', 'movie', 'production_budget', 'domestic_gross',\n",
       "       'worldwide_gross', 'profit', 'profit_margin', 'month'],\n",
       "      dtype='object')"
      ]
     },
     "execution_count": 27,
     "metadata": {},
     "output_type": "execute_result"
    }
   ],
   "source": [
    "tn_df.columns"
   ]
  },
  {
   "cell_type": "code",
   "execution_count": 28,
   "metadata": {},
   "outputs": [
    {
     "data": {
      "text/html": [
       "<div>\n",
       "<style scoped>\n",
       "    .dataframe tbody tr th:only-of-type {\n",
       "        vertical-align: middle;\n",
       "    }\n",
       "\n",
       "    .dataframe tbody tr th {\n",
       "        vertical-align: top;\n",
       "    }\n",
       "\n",
       "    .dataframe thead th {\n",
       "        text-align: right;\n",
       "    }\n",
       "</style>\n",
       "<table border=\"1\" class=\"dataframe\">\n",
       "  <thead>\n",
       "    <tr style=\"text-align: right;\">\n",
       "      <th></th>\n",
       "      <th>profit</th>\n",
       "      <th>profit_margin</th>\n",
       "    </tr>\n",
       "    <tr>\n",
       "      <th>month</th>\n",
       "      <th></th>\n",
       "      <th></th>\n",
       "    </tr>\n",
       "  </thead>\n",
       "  <tbody>\n",
       "    <tr>\n",
       "      <th>January</th>\n",
       "      <td>6729892.0</td>\n",
       "      <td>40.580</td>\n",
       "    </tr>\n",
       "    <tr>\n",
       "      <th>February</th>\n",
       "      <td>12955380.0</td>\n",
       "      <td>47.390</td>\n",
       "    </tr>\n",
       "    <tr>\n",
       "      <th>March</th>\n",
       "      <td>11922219.0</td>\n",
       "      <td>41.875</td>\n",
       "    </tr>\n",
       "    <tr>\n",
       "      <th>April</th>\n",
       "      <td>6433427.0</td>\n",
       "      <td>33.700</td>\n",
       "    </tr>\n",
       "    <tr>\n",
       "      <th>May</th>\n",
       "      <td>15796145.0</td>\n",
       "      <td>55.130</td>\n",
       "    </tr>\n",
       "    <tr>\n",
       "      <th>June</th>\n",
       "      <td>25282732.0</td>\n",
       "      <td>57.270</td>\n",
       "    </tr>\n",
       "    <tr>\n",
       "      <th>July</th>\n",
       "      <td>24261283.5</td>\n",
       "      <td>58.150</td>\n",
       "    </tr>\n",
       "    <tr>\n",
       "      <th>August</th>\n",
       "      <td>8471229.0</td>\n",
       "      <td>44.280</td>\n",
       "    </tr>\n",
       "    <tr>\n",
       "      <th>September</th>\n",
       "      <td>3639242.0</td>\n",
       "      <td>28.355</td>\n",
       "    </tr>\n",
       "    <tr>\n",
       "      <th>October</th>\n",
       "      <td>4293467.0</td>\n",
       "      <td>35.395</td>\n",
       "    </tr>\n",
       "    <tr>\n",
       "      <th>November</th>\n",
       "      <td>24882911.5</td>\n",
       "      <td>57.405</td>\n",
       "    </tr>\n",
       "    <tr>\n",
       "      <th>December</th>\n",
       "      <td>19043870.0</td>\n",
       "      <td>51.020</td>\n",
       "    </tr>\n",
       "  </tbody>\n",
       "</table>\n",
       "</div>"
      ],
      "text/plain": [
       "               profit  profit_margin\n",
       "month                               \n",
       "January     6729892.0         40.580\n",
       "February   12955380.0         47.390\n",
       "March      11922219.0         41.875\n",
       "April       6433427.0         33.700\n",
       "May        15796145.0         55.130\n",
       "June       25282732.0         57.270\n",
       "July       24261283.5         58.150\n",
       "August      8471229.0         44.280\n",
       "September   3639242.0         28.355\n",
       "October     4293467.0         35.395\n",
       "November   24882911.5         57.405\n",
       "December   19043870.0         51.020"
      ]
     },
     "execution_count": 28,
     "metadata": {},
     "output_type": "execute_result"
    }
   ],
   "source": [
    "#group the movies by month, showing the average profit and profit margin % for each.\n",
    "profit_per_month=tn_df.groupby(['month'])[['profit', 'profit_margin']].median()\n",
    "profit_per_month = profit_per_month.reindex(['January', 'February', 'March', 'April', 'May', 'June', 'July', 'August', 'September', 'October', 'November', 'December'])  # Reorder the rows to match the desired order\n",
    "profit_per_month"
   ]
  },
  {
   "cell_type": "code",
   "execution_count": 29,
   "metadata": {},
   "outputs": [
    {
     "data": {
      "image/png": "[encoded data removed]",
      "text/plain": [
       "<Figure size 1152x360 with 2 Axes>"
      ]
     },
     "metadata": {
      "needs_background": "light"
     },
     "output_type": "display_data"
    }
   ],
   "source": [
    "# create a figure with two subplots\n",
    "fig, (ax1, ax2) = plt.subplots(ncols=2, figsize=(16, 5))\n",
    "\n",
    "# plot bar graph for profit values\n",
    "profit_per_month['profit'].plot(kind='bar', color='blue', ax=ax1)\n",
    "ax1.set_ylabel('Profit(Tens of Millions)')\n",
    "ax1.set_xlabel('Month')\n",
    "ax1.set_title('Profit by Release Month')\n",
    "\n",
    "# plot bar graph for profit margin values\n",
    "profit_per_month['profit_margin'].plot(kind='bar', color='red', ax=ax2)\n",
    "ax2.set_ylabel('Profit Margin')\n",
    "ax2.set_xlabel('Month')\n",
    "ax2.set_title('Profit Margin by Release Month')\n",
    "plt.savefig('profitandprofitmarginbymonth')\n",
    "\n",
    "\n",
    "# show the plot\n",
    "plt.show()"
   ]
  },
  {
   "cell_type": "markdown",
   "metadata": {},
   "source": [
    "**May, June, July November and December** shoot to the top in terms of both median profit and profit mergin. This is perhaps as a result children and their parents during school breaks and christmas holidays.\n",
    "\n",
    "**Question 2 Answer**: I recommend releasing the bulk of movies during the months of May, June, July, November and December."
   ]
  },
  {
   "cell_type": "markdown",
   "metadata": {},
   "source": [
    "## Question 3: Which studios are the top competitors?\n",
    "\n",
    "To answer this, We need to merge the tn.movie_budgets and bom.movie_gross data frames."
   ]
  },
  {
   "cell_type": "code",
   "execution_count": 30,
   "metadata": {
    "scrolled": true
   },
   "outputs": [
    {
     "data": {
      "text/html": [
       "<div>\n",
       "<style scoped>\n",
       "    .dataframe tbody tr th:only-of-type {\n",
       "        vertical-align: middle;\n",
       "    }\n",
       "\n",
       "    .dataframe tbody tr th {\n",
       "        vertical-align: top;\n",
       "    }\n",
       "\n",
       "    .dataframe thead th {\n",
       "        text-align: right;\n",
       "    }\n",
       "</style>\n",
       "<table border=\"1\" class=\"dataframe\">\n",
       "  <thead>\n",
       "    <tr style=\"text-align: right;\">\n",
       "      <th></th>\n",
       "      <th>id</th>\n",
       "      <th>release_date</th>\n",
       "      <th>movie</th>\n",
       "      <th>production_budget</th>\n",
       "      <th>domestic_gross_x</th>\n",
       "      <th>worldwide_gross</th>\n",
       "      <th>profit</th>\n",
       "      <th>profit_margin</th>\n",
       "      <th>month</th>\n",
       "      <th>title</th>\n",
       "      <th>studio</th>\n",
       "      <th>domestic_gross_y</th>\n",
       "      <th>foreign_gross</th>\n",
       "      <th>year</th>\n",
       "    </tr>\n",
       "  </thead>\n",
       "  <tbody>\n",
       "    <tr>\n",
       "      <th>0</th>\n",
       "      <td>2</td>\n",
       "      <td>2011-05-20</td>\n",
       "      <td>Pirates of the Caribbean: On Stranger Tides</td>\n",
       "      <td>410600000.0</td>\n",
       "      <td>241063875.0</td>\n",
       "      <td>1.045664e+09</td>\n",
       "      <td>6.350639e+08</td>\n",
       "      <td>60.73</td>\n",
       "      <td>May</td>\n",
       "      <td>Pirates of the Caribbean: On Stranger Tides</td>\n",
       "      <td>BV</td>\n",
       "      <td>241100000.0</td>\n",
       "      <td>804600000.0</td>\n",
       "      <td>2011</td>\n",
       "    </tr>\n",
       "    <tr>\n",
       "      <th>1</th>\n",
       "      <td>4</td>\n",
       "      <td>2015-05-01</td>\n",
       "      <td>Avengers: Age of Ultron</td>\n",
       "      <td>330600000.0</td>\n",
       "      <td>459005868.0</td>\n",
       "      <td>1.403014e+09</td>\n",
       "      <td>1.072414e+09</td>\n",
       "      <td>76.44</td>\n",
       "      <td>May</td>\n",
       "      <td>Avengers: Age of Ultron</td>\n",
       "      <td>BV</td>\n",
       "      <td>459000000.0</td>\n",
       "      <td>946400000.0</td>\n",
       "      <td>2015</td>\n",
       "    </tr>\n",
       "    <tr>\n",
       "      <th>2</th>\n",
       "      <td>7</td>\n",
       "      <td>2018-04-27</td>\n",
       "      <td>Avengers: Infinity War</td>\n",
       "      <td>300000000.0</td>\n",
       "      <td>678815482.0</td>\n",
       "      <td>2.048134e+09</td>\n",
       "      <td>1.748134e+09</td>\n",
       "      <td>85.35</td>\n",
       "      <td>April</td>\n",
       "      <td>Avengers: Infinity War</td>\n",
       "      <td>BV</td>\n",
       "      <td>678800000.0</td>\n",
       "      <td>1369.5</td>\n",
       "      <td>2018</td>\n",
       "    </tr>\n",
       "    <tr>\n",
       "      <th>3</th>\n",
       "      <td>9</td>\n",
       "      <td>2017-11-17</td>\n",
       "      <td>Justice League</td>\n",
       "      <td>300000000.0</td>\n",
       "      <td>229024295.0</td>\n",
       "      <td>6.559452e+08</td>\n",
       "      <td>3.559452e+08</td>\n",
       "      <td>54.26</td>\n",
       "      <td>November</td>\n",
       "      <td>Justice League</td>\n",
       "      <td>WB</td>\n",
       "      <td>229000000.0</td>\n",
       "      <td>428900000.0</td>\n",
       "      <td>2017</td>\n",
       "    </tr>\n",
       "    <tr>\n",
       "      <th>4</th>\n",
       "      <td>10</td>\n",
       "      <td>2015-11-06</td>\n",
       "      <td>Spectre</td>\n",
       "      <td>300000000.0</td>\n",
       "      <td>200074175.0</td>\n",
       "      <td>8.796209e+08</td>\n",
       "      <td>5.796209e+08</td>\n",
       "      <td>65.89</td>\n",
       "      <td>November</td>\n",
       "      <td>Spectre</td>\n",
       "      <td>Sony</td>\n",
       "      <td>200100000.0</td>\n",
       "      <td>680600000.0</td>\n",
       "      <td>2015</td>\n",
       "    </tr>\n",
       "    <tr>\n",
       "      <th>...</th>\n",
       "      <td>...</td>\n",
       "      <td>...</td>\n",
       "      <td>...</td>\n",
       "      <td>...</td>\n",
       "      <td>...</td>\n",
       "      <td>...</td>\n",
       "      <td>...</td>\n",
       "      <td>...</td>\n",
       "      <td>...</td>\n",
       "      <td>...</td>\n",
       "      <td>...</td>\n",
       "      <td>...</td>\n",
       "      <td>...</td>\n",
       "      <td>...</td>\n",
       "    </tr>\n",
       "    <tr>\n",
       "      <th>1238</th>\n",
       "      <td>68</td>\n",
       "      <td>2012-04-27</td>\n",
       "      <td>Sound of My Voice</td>\n",
       "      <td>135000.0</td>\n",
       "      <td>408015.0</td>\n",
       "      <td>4.294480e+05</td>\n",
       "      <td>2.944480e+05</td>\n",
       "      <td>68.56</td>\n",
       "      <td>April</td>\n",
       "      <td>Sound of My Voice</td>\n",
       "      <td>FoxS</td>\n",
       "      <td>408000.0</td>\n",
       "      <td>1400000.0</td>\n",
       "      <td>2012</td>\n",
       "    </tr>\n",
       "    <tr>\n",
       "      <th>1239</th>\n",
       "      <td>73</td>\n",
       "      <td>2012-06-15</td>\n",
       "      <td>Your Sister's Sister</td>\n",
       "      <td>120000.0</td>\n",
       "      <td>1597486.0</td>\n",
       "      <td>3.090593e+06</td>\n",
       "      <td>2.970593e+06</td>\n",
       "      <td>96.12</td>\n",
       "      <td>June</td>\n",
       "      <td>Your Sister's Sister</td>\n",
       "      <td>IFC</td>\n",
       "      <td>1600000.0</td>\n",
       "      <td>1400000.0</td>\n",
       "      <td>2012</td>\n",
       "    </tr>\n",
       "    <tr>\n",
       "      <th>1240</th>\n",
       "      <td>80</td>\n",
       "      <td>2015-07-10</td>\n",
       "      <td>The Gallows</td>\n",
       "      <td>100000.0</td>\n",
       "      <td>22764410.0</td>\n",
       "      <td>4.165647e+07</td>\n",
       "      <td>4.155647e+07</td>\n",
       "      <td>99.76</td>\n",
       "      <td>July</td>\n",
       "      <td>The Gallows</td>\n",
       "      <td>WB (NL)</td>\n",
       "      <td>22800000.0</td>\n",
       "      <td>20200000.0</td>\n",
       "      <td>2015</td>\n",
       "    </tr>\n",
       "    <tr>\n",
       "      <th>1241</th>\n",
       "      <td>86</td>\n",
       "      <td>2017-07-07</td>\n",
       "      <td>A Ghost Story</td>\n",
       "      <td>100000.0</td>\n",
       "      <td>1594798.0</td>\n",
       "      <td>2.769782e+06</td>\n",
       "      <td>2.669782e+06</td>\n",
       "      <td>96.39</td>\n",
       "      <td>July</td>\n",
       "      <td>A Ghost Story</td>\n",
       "      <td>A24</td>\n",
       "      <td>1600000.0</td>\n",
       "      <td>1400000.0</td>\n",
       "      <td>2017</td>\n",
       "    </tr>\n",
       "    <tr>\n",
       "      <th>1242</th>\n",
       "      <td>18</td>\n",
       "      <td>2010-11-12</td>\n",
       "      <td>Tiny Furniture</td>\n",
       "      <td>50000.0</td>\n",
       "      <td>391674.0</td>\n",
       "      <td>4.241490e+05</td>\n",
       "      <td>3.741490e+05</td>\n",
       "      <td>88.21</td>\n",
       "      <td>November</td>\n",
       "      <td>Tiny Furniture</td>\n",
       "      <td>IFC</td>\n",
       "      <td>392000.0</td>\n",
       "      <td>1400000.0</td>\n",
       "      <td>2010</td>\n",
       "    </tr>\n",
       "  </tbody>\n",
       "</table>\n",
       "<p>1242 rows × 14 columns</p>\n",
       "</div>"
      ],
      "text/plain": [
       "      id release_date                                        movie  \\\n",
       "0      2   2011-05-20  Pirates of the Caribbean: On Stranger Tides   \n",
       "1      4   2015-05-01                      Avengers: Age of Ultron   \n",
       "2      7   2018-04-27                       Avengers: Infinity War   \n",
       "3      9   2017-11-17                               Justice League   \n",
       "4     10   2015-11-06                                      Spectre   \n",
       "...   ..          ...                                          ...   \n",
       "1238  68   2012-04-27                            Sound of My Voice   \n",
       "1239  73   2012-06-15                         Your Sister's Sister   \n",
       "1240  80   2015-07-10                                  The Gallows   \n",
       "1241  86   2017-07-07                                A Ghost Story   \n",
       "1242  18   2010-11-12                               Tiny Furniture   \n",
       "\n",
       "      production_budget  domestic_gross_x  worldwide_gross        profit  \\\n",
       "0           410600000.0       241063875.0     1.045664e+09  6.350639e+08   \n",
       "1           330600000.0       459005868.0     1.403014e+09  1.072414e+09   \n",
       "2           300000000.0       678815482.0     2.048134e+09  1.748134e+09   \n",
       "3           300000000.0       229024295.0     6.559452e+08  3.559452e+08   \n",
       "4           300000000.0       200074175.0     8.796209e+08  5.796209e+08   \n",
       "...                 ...               ...              ...           ...   \n",
       "1238           135000.0          408015.0     4.294480e+05  2.944480e+05   \n",
       "1239           120000.0         1597486.0     3.090593e+06  2.970593e+06   \n",
       "1240           100000.0        22764410.0     4.165647e+07  4.155647e+07   \n",
       "1241           100000.0         1594798.0     2.769782e+06  2.669782e+06   \n",
       "1242            50000.0          391674.0     4.241490e+05  3.741490e+05   \n",
       "\n",
       "      profit_margin     month                                        title  \\\n",
       "0             60.73       May  Pirates of the Caribbean: On Stranger Tides   \n",
       "1             76.44       May                      Avengers: Age of Ultron   \n",
       "2             85.35     April                       Avengers: Infinity War   \n",
       "3             54.26  November                               Justice League   \n",
       "4             65.89  November                                      Spectre   \n",
       "...             ...       ...                                          ...   \n",
       "1238          68.56     April                            Sound of My Voice   \n",
       "1239          96.12      June                         Your Sister's Sister   \n",
       "1240          99.76      July                                  The Gallows   \n",
       "1241          96.39      July                                A Ghost Story   \n",
       "1242          88.21  November                               Tiny Furniture   \n",
       "\n",
       "       studio  domestic_gross_y  foreign_gross  year  \n",
       "0          BV       241100000.0    804600000.0  2011  \n",
       "1          BV       459000000.0    946400000.0  2015  \n",
       "2          BV       678800000.0         1369.5  2018  \n",
       "3          WB       229000000.0    428900000.0  2017  \n",
       "4        Sony       200100000.0    680600000.0  2015  \n",
       "...       ...               ...            ...   ...  \n",
       "1238     FoxS          408000.0      1400000.0  2012  \n",
       "1239      IFC         1600000.0      1400000.0  2012  \n",
       "1240  WB (NL)        22800000.0     20200000.0  2015  \n",
       "1241      A24         1600000.0      1400000.0  2017  \n",
       "1242      IFC          392000.0      1400000.0  2010  \n",
       "\n",
       "[1242 rows x 14 columns]"
      ]
     },
     "execution_count": 30,
     "metadata": {},
     "output_type": "execute_result"
    }
   ],
   "source": [
    "#Combine movie_budgets_df and movie_gross_df on movie titles\n",
    "studios_df = tn_df.merge(bom_df, left_on='movie', right_on='title', how='inner')\n",
    "\n",
    "#Drop rows with studio = 'N/A'\n",
    "studios_df = studios_df[studios_df['studio'] != 'N/A']\n",
    "\n",
    "studios_df"
   ]
  },
  {
   "cell_type": "markdown",
   "metadata": {},
   "source": [
    "Next step is to identify the top 20 studios with the most movie productions in the range of period in our dataframe(1984-2018)"
   ]
  },
  {
   "cell_type": "code",
   "execution_count": 31,
   "metadata": {
    "scrolled": true
   },
   "outputs": [
    {
     "data": {
      "text/html": [
       "<div>\n",
       "<style scoped>\n",
       "    .dataframe tbody tr th:only-of-type {\n",
       "        vertical-align: middle;\n",
       "    }\n",
       "\n",
       "    .dataframe tbody tr th {\n",
       "        vertical-align: top;\n",
       "    }\n",
       "\n",
       "    .dataframe thead th {\n",
       "        text-align: right;\n",
       "    }\n",
       "</style>\n",
       "<table border=\"1\" class=\"dataframe\">\n",
       "  <thead>\n",
       "    <tr style=\"text-align: right;\">\n",
       "      <th></th>\n",
       "      <th>studio</th>\n",
       "      <th>total_movies</th>\n",
       "    </tr>\n",
       "  </thead>\n",
       "  <tbody>\n",
       "    <tr>\n",
       "      <th>90</th>\n",
       "      <td>Uni.</td>\n",
       "      <td>117</td>\n",
       "    </tr>\n",
       "    <tr>\n",
       "      <th>32</th>\n",
       "      <td>Fox</td>\n",
       "      <td>110</td>\n",
       "    </tr>\n",
       "    <tr>\n",
       "      <th>94</th>\n",
       "      <td>WB</td>\n",
       "      <td>102</td>\n",
       "    </tr>\n",
       "    <tr>\n",
       "      <th>82</th>\n",
       "      <td>Sony</td>\n",
       "      <td>74</td>\n",
       "    </tr>\n",
       "    <tr>\n",
       "      <th>69</th>\n",
       "      <td>Par.</td>\n",
       "      <td>74</td>\n",
       "    </tr>\n",
       "    <tr>\n",
       "      <th>15</th>\n",
       "      <td>BV</td>\n",
       "      <td>72</td>\n",
       "    </tr>\n",
       "    <tr>\n",
       "      <th>48</th>\n",
       "      <td>LGF</td>\n",
       "      <td>61</td>\n",
       "    </tr>\n",
       "    <tr>\n",
       "      <th>33</th>\n",
       "      <td>FoxS</td>\n",
       "      <td>46</td>\n",
       "    </tr>\n",
       "    <tr>\n",
       "      <th>97</th>\n",
       "      <td>Wein.</td>\n",
       "      <td>41</td>\n",
       "    </tr>\n",
       "    <tr>\n",
       "      <th>31</th>\n",
       "      <td>Focus</td>\n",
       "      <td>39</td>\n",
       "    </tr>\n",
       "    <tr>\n",
       "      <th>95</th>\n",
       "      <td>WB (NL)</td>\n",
       "      <td>37</td>\n",
       "    </tr>\n",
       "    <tr>\n",
       "      <th>78</th>\n",
       "      <td>SPC</td>\n",
       "      <td>33</td>\n",
       "    </tr>\n",
       "    <tr>\n",
       "      <th>47</th>\n",
       "      <td>LG/S</td>\n",
       "      <td>30</td>\n",
       "    </tr>\n",
       "    <tr>\n",
       "      <th>39</th>\n",
       "      <td>IFC</td>\n",
       "      <td>30</td>\n",
       "    </tr>\n",
       "    <tr>\n",
       "      <th>74</th>\n",
       "      <td>Rela.</td>\n",
       "      <td>28</td>\n",
       "    </tr>\n",
       "    <tr>\n",
       "      <th>60</th>\n",
       "      <td>ORF</td>\n",
       "      <td>27</td>\n",
       "    </tr>\n",
       "    <tr>\n",
       "      <th>76</th>\n",
       "      <td>SGem</td>\n",
       "      <td>25</td>\n",
       "    </tr>\n",
       "    <tr>\n",
       "      <th>71</th>\n",
       "      <td>RAtt.</td>\n",
       "      <td>25</td>\n",
       "    </tr>\n",
       "    <tr>\n",
       "      <th>1</th>\n",
       "      <td>A24</td>\n",
       "      <td>21</td>\n",
       "    </tr>\n",
       "    <tr>\n",
       "      <th>53</th>\n",
       "      <td>Magn.</td>\n",
       "      <td>19</td>\n",
       "    </tr>\n",
       "  </tbody>\n",
       "</table>\n",
       "</div>"
      ],
      "text/plain": [
       "     studio  total_movies\n",
       "90     Uni.           117\n",
       "32      Fox           110\n",
       "94       WB           102\n",
       "82     Sony            74\n",
       "69     Par.            74\n",
       "15       BV            72\n",
       "48      LGF            61\n",
       "33     FoxS            46\n",
       "97    Wein.            41\n",
       "31    Focus            39\n",
       "95  WB (NL)            37\n",
       "78      SPC            33\n",
       "47     LG/S            30\n",
       "39      IFC            30\n",
       "74    Rela.            28\n",
       "60      ORF            27\n",
       "76     SGem            25\n",
       "71    RAtt.            25\n",
       "1       A24            21\n",
       "53    Magn.            19"
      ]
     },
     "execution_count": 31,
     "metadata": {},
     "output_type": "execute_result"
    }
   ],
   "source": [
    "# create a separate df grouped by studio and the total movies\n",
    "#create a total movies column\n",
    "studio_movie_count = studios_df.groupby('studio').size().reset_index(name='total_movies')\n",
    "studio_movie_count = studio_movie_count.sort_values(by='total_movies', ascending=False)[:20]\n",
    "studio_movie_count"
   ]
  },
  {
   "cell_type": "code",
   "execution_count": 32,
   "metadata": {},
   "outputs": [
    {
     "data": {
      "image/png": "[encoded data removed]",
      "text/plain": [
       "<Figure size 864x576 with 1 Axes>"
      ]
     },
     "metadata": {
      "needs_background": "light"
     },
     "output_type": "display_data"
    },
    {
     "data": {
      "text/plain": [
       "<Figure size 432x288 with 0 Axes>"
      ]
     },
     "metadata": {},
     "output_type": "display_data"
    }
   ],
   "source": [
    "# plot the resulting dataframe in a bar graph\n",
    "ax = studio_movie_count.plot.bar(x='studio', y='total_movies', rot=90, figsize=(12, 8))\n",
    "\n",
    "# set the x-axis and y-axis labels\n",
    "ax.set_xlabel('Studio')\n",
    "ax.set_ylabel('Total Movies')\n",
    "\n",
    "# set the title of the graph\n",
    "ax.set_title('Top 20 Studios by Amount of Movies Produced', fontsize=16)\n",
    "\n",
    "# show the graph\n",
    "plt.show()\n",
    "plt.savefig('Top20StudiosbyMovies Produced')"
   ]
  },
  {
   "cell_type": "markdown",
   "metadata": {},
   "source": [
    "**Universal, Fox, and Warner Brothers** are the top three studios with over 100 movies each. Based on the amount of movies made, they could be potential competitors. Since net profit is the defining factor of a success, let's take a look at average net profit per studio."
   ]
  },
  {
   "cell_type": "markdown",
   "metadata": {},
   "source": [
    "Next step is to identify the top 20 studios with the highest average profit in the range of period in our dataframe(1984-2018)"
   ]
  },
  {
   "cell_type": "code",
   "execution_count": 33,
   "metadata": {},
   "outputs": [
    {
     "data": {
      "text/html": [
       "<div>\n",
       "<style scoped>\n",
       "    .dataframe tbody tr th:only-of-type {\n",
       "        vertical-align: middle;\n",
       "    }\n",
       "\n",
       "    .dataframe tbody tr th {\n",
       "        vertical-align: top;\n",
       "    }\n",
       "\n",
       "    .dataframe thead th {\n",
       "        text-align: right;\n",
       "    }\n",
       "</style>\n",
       "<table border=\"1\" class=\"dataframe\">\n",
       "  <thead>\n",
       "    <tr style=\"text-align: right;\">\n",
       "      <th></th>\n",
       "      <th>studio</th>\n",
       "      <th>avg_profit</th>\n",
       "    </tr>\n",
       "  </thead>\n",
       "  <tbody>\n",
       "    <tr>\n",
       "      <th>64</th>\n",
       "      <td>P/DW</td>\n",
       "      <td>3.744028e+08</td>\n",
       "    </tr>\n",
       "    <tr>\n",
       "      <th>15</th>\n",
       "      <td>BV</td>\n",
       "      <td>3.310447e+08</td>\n",
       "    </tr>\n",
       "    <tr>\n",
       "      <th>38</th>\n",
       "      <td>GrtIndia</td>\n",
       "      <td>2.335029e+08</td>\n",
       "    </tr>\n",
       "    <tr>\n",
       "      <th>90</th>\n",
       "      <td>Uni.</td>\n",
       "      <td>1.771931e+08</td>\n",
       "    </tr>\n",
       "    <tr>\n",
       "      <th>32</th>\n",
       "      <td>Fox</td>\n",
       "      <td>1.730938e+08</td>\n",
       "    </tr>\n",
       "    <tr>\n",
       "      <th>95</th>\n",
       "      <td>WB (NL)</td>\n",
       "      <td>1.727639e+08</td>\n",
       "    </tr>\n",
       "    <tr>\n",
       "      <th>82</th>\n",
       "      <td>Sony</td>\n",
       "      <td>1.696123e+08</td>\n",
       "    </tr>\n",
       "    <tr>\n",
       "      <th>94</th>\n",
       "      <td>WB</td>\n",
       "      <td>1.372168e+08</td>\n",
       "    </tr>\n",
       "    <tr>\n",
       "      <th>69</th>\n",
       "      <td>Par.</td>\n",
       "      <td>1.306514e+08</td>\n",
       "    </tr>\n",
       "    <tr>\n",
       "      <th>83</th>\n",
       "      <td>Strand</td>\n",
       "      <td>1.292782e+08</td>\n",
       "    </tr>\n",
       "    <tr>\n",
       "      <th>51</th>\n",
       "      <td>MGM</td>\n",
       "      <td>9.677964e+07</td>\n",
       "    </tr>\n",
       "    <tr>\n",
       "      <th>89</th>\n",
       "      <td>UTV</td>\n",
       "      <td>9.501160e+07</td>\n",
       "    </tr>\n",
       "    <tr>\n",
       "      <th>85</th>\n",
       "      <td>Sum.</td>\n",
       "      <td>8.573647e+07</td>\n",
       "    </tr>\n",
       "    <tr>\n",
       "      <th>50</th>\n",
       "      <td>MBox</td>\n",
       "      <td>8.103616e+07</td>\n",
       "    </tr>\n",
       "    <tr>\n",
       "      <th>48</th>\n",
       "      <td>LGF</td>\n",
       "      <td>8.055740e+07</td>\n",
       "    </tr>\n",
       "    <tr>\n",
       "      <th>47</th>\n",
       "      <td>LG/S</td>\n",
       "      <td>7.194750e+07</td>\n",
       "    </tr>\n",
       "    <tr>\n",
       "      <th>76</th>\n",
       "      <td>SGem</td>\n",
       "      <td>6.687388e+07</td>\n",
       "    </tr>\n",
       "    <tr>\n",
       "      <th>87</th>\n",
       "      <td>TriS</td>\n",
       "      <td>6.370211e+07</td>\n",
       "    </tr>\n",
       "    <tr>\n",
       "      <th>93</th>\n",
       "      <td>W/Dim.</td>\n",
       "      <td>5.204399e+07</td>\n",
       "    </tr>\n",
       "    <tr>\n",
       "      <th>97</th>\n",
       "      <td>Wein.</td>\n",
       "      <td>4.834126e+07</td>\n",
       "    </tr>\n",
       "  </tbody>\n",
       "</table>\n",
       "</div>"
      ],
      "text/plain": [
       "      studio    avg_profit\n",
       "64      P/DW  3.744028e+08\n",
       "15        BV  3.310447e+08\n",
       "38  GrtIndia  2.335029e+08\n",
       "90      Uni.  1.771931e+08\n",
       "32       Fox  1.730938e+08\n",
       "95   WB (NL)  1.727639e+08\n",
       "82      Sony  1.696123e+08\n",
       "94        WB  1.372168e+08\n",
       "69      Par.  1.306514e+08\n",
       "83    Strand  1.292782e+08\n",
       "51       MGM  9.677964e+07\n",
       "89       UTV  9.501160e+07\n",
       "85      Sum.  8.573647e+07\n",
       "50      MBox  8.103616e+07\n",
       "48       LGF  8.055740e+07\n",
       "47      LG/S  7.194750e+07\n",
       "76      SGem  6.687388e+07\n",
       "87      TriS  6.370211e+07\n",
       "93    W/Dim.  5.204399e+07\n",
       "97     Wein.  4.834126e+07"
      ]
     },
     "execution_count": 33,
     "metadata": {},
     "output_type": "execute_result"
    }
   ],
   "source": [
    "# group the dataframe by studio and compute the mean of profits\n",
    "#create an average profit column\n",
    "studio_avg_profit = studios_df.groupby('studio')['profit'].mean().reset_index(name='avg_profit')\n",
    "studio_avg_profit = studio_avg_profit.sort_values(by='avg_profit', ascending=False)[:20]\n",
    "studio_avg_profit"
   ]
  },
  {
   "cell_type": "code",
   "execution_count": 34,
   "metadata": {},
   "outputs": [
    {
     "name": "stdout",
     "output_type": "stream",
     "text": [
      "<class 'pandas.core.frame.DataFrame'>\n",
      "Int64Index: 20 entries, 64 to 97\n",
      "Data columns (total 2 columns):\n",
      " #   Column      Non-Null Count  Dtype  \n",
      "---  ------      --------------  -----  \n",
      " 0   studio      20 non-null     object \n",
      " 1   avg_profit  20 non-null     float64\n",
      "dtypes: float64(1), object(1)\n",
      "memory usage: 480.0+ bytes\n"
     ]
    }
   ],
   "source": [
    "studio_avg_profit.info()"
   ]
  },
  {
   "cell_type": "code",
   "execution_count": 35,
   "metadata": {},
   "outputs": [
    {
     "data": {
      "image/png": "[encoded data removed]",
      "text/plain": [
       "<Figure size 864x576 with 1 Axes>"
      ]
     },
     "metadata": {
      "needs_background": "light"
     },
     "output_type": "display_data"
    },
    {
     "data": {
      "text/plain": [
       "<Figure size 432x288 with 0 Axes>"
      ]
     },
     "metadata": {},
     "output_type": "display_data"
    }
   ],
   "source": [
    "# plot the resulting dataframe in a bar graph\n",
    "ax = studio_avg_profit.plot.bar(x='studio', y='avg_profit', rot=90, figsize=(12, 8))\n",
    "\n",
    "# set the x-axis and y-axis labels\n",
    "ax.set_xlabel('Studio')\n",
    "ax.set_ylabel('Average Profit(in billions)')\n",
    "\n",
    "# set the title of the graph\n",
    "ax.set_title('Top 20 Studios by Average Profit', fontsize=16)\n",
    "\n",
    "# show the graph\n",
    "plt.show()\n",
    "plt.savefig('Top20Studiosbyprofit')"
   ]
  },
  {
   "cell_type": "markdown",
   "metadata": {},
   "source": [
    "**Question 3 Answer**: The plots above clearly shows top 20 competitors in the movie industry based on average profit. These are the studios that we should look to compete against."
   ]
  },
  {
   "cell_type": "markdown",
   "metadata": {},
   "source": [
    "# Conclusion\n",
    "\n",
    "In the brief analysis above, we looked at who our top competitors would be based on the amount of movies made and the average net profit of each studio, we determined which the best time of year to bulk release movies, and finally looked at which genres have had the highest average net profit. There are many more factors involved in making movies that we could dive into, but this gives us answers to some foundational questions for creating a successful movie.\n",
    "\n",
    "## Recommendations\n",
    "\n",
    "1. I recommend that Microsoft should focus their efforts on the top 6 most profitable movie genres: Adventure, Action, Comedy, Drama, Sci-Fi and Animation. A further recommendation to focus on Sci-Fi and Animation due to less competition and a higher opportunity to profit.\n",
    "\n",
    "2. I recommend that Microsoft release the bulk of their movies,during the months of May, June, July, November and December\n",
    "\n",
    "3. Microsoft should research the top competitor's best practices and try to build off the success of these well established studios such as Universal, Fox and warner brothers who not only in the quantity but also quality of movies bases on profit analysis.\n",
    "\n",
    "## Future Work\n",
    "\n",
    "As next steps, I would suggest the following:\n",
    "\n",
    "1. With the ever increaing inflation cost, conduct furrther analysis to adjust using Consumer Price Index\n",
    "3. Conduct further analysis on how to allocate the production budget, minimizing it but effectively. A more detailed financial analysis to say the least.\n",
    "4. A further analysis on the production team, when it comes to hiring the creative team such as directors, photographers, cinematographers and script writers.\n",
    "5. Analysis of additional revenue streams e.g. merchandise. sequels and licencing.\n",
    "\n"
   ]
  },
  {
   "cell_type": "code",
   "execution_count": null,
   "metadata": {},
   "outputs": [],
   "source": []
  }
 ],
 "metadata": {
  "kernelspec": {
   "display_name": "Python 3",
   "language": "python",
   "name": "python3"
  },
  "language_info": {
   "codemirror_mode": {
    "name": "ipython",
    "version": 3
   },
   "file_extension": ".py",
   "mimetype": "text/x-python",
   "name": "python",
   "nbconvert_exporter": "python",
   "pygments_lexer": "ipython3",
   "version": "3.8.5"
  }
 },
 "nbformat": 4,
 "nbformat_minor": 2
}
